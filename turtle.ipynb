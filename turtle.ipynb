{
 "cells": [
  {
   "cell_type": "code",
   "execution_count": 1,
   "id": "0975df70",
   "metadata": {},
   "outputs": [],
   "source": [
    "import turtle\n",
    "colors = [\"red\",\"blue\",\"yellow\",\"green\",\"purple\",\"orange\"]\n",
    "turtle.tracer(0,0)\n",
    "for i in range(45):\n",
    "    turtle.color(colors[i%6])\n",
    "    turtle.pendown()\n",
    "    turtle.forward(2 + i*5)\n",
    "    turtle.left(45)\n",
    "    turtle.width(i)\n",
    "    turtle.penup()\n",
    "    turtle.update()"
   ]
  },
  {
   "cell_type": "code",
   "execution_count": null,
   "id": "0a7e1267",
   "metadata": {},
   "outputs": [],
   "source": []
  }
 ],
 "metadata": {
  "kernelspec": {
   "display_name": "Python 3 (ipykernel)",
   "language": "python",
   "name": "python3"
  },
  "language_info": {
   "codemirror_mode": {
    "name": "ipython",
    "version": 3
   },
   "file_extension": ".py",
   "mimetype": "text/x-python",
   "name": "python",
   "nbconvert_exporter": "python",
   "pygments_lexer": "ipython3",
   "version": "3.9.7"
  }
 },
 "nbformat": 4,
 "nbformat_minor": 5
}
